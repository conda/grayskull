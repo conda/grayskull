{
 "cells": [
  {
   "cell_type": "code",
   "execution_count": 1,
   "id": "f7b8e3a0-9414-44e9-8ef5-d9a71132a8ac",
   "metadata": {},
   "outputs": [],
   "source": [
    "import tomli\n",
    "import re\n",
    "from grayskull.strategy.py_base import get_name_version_from_requires_dist, ensure_pep440, ensure_pep440_in_req_list"
   ]
  },
  {
   "cell_type": "code",
   "execution_count": 2,
   "id": "20bdc638-9d07-4f37-9a42-638cab9f66d1",
   "metadata": {},
   "outputs": [],
   "source": [
    "def get_toml_requires(toml_file):\n",
    "    with open(toml_file, \"rb\") as f:\n",
    "        try:\n",
    "            toml_dict = tomli.load(f)\n",
    "        except tomli.TOMLDecodeError:\n",
    "            print(\"Does not appear to be a valid toml source\")\n",
    "    \n",
    "    if 'build-system' in toml_dict.keys():\n",
    "        if 'requires' in toml_dict['build-system'].keys():\n",
    "            toml_requires_dict = toml_dict['build-system']['requires']\n",
    "    return toml_requires_dict"
   ]
  },
  {
   "cell_type": "code",
   "execution_count": 3,
   "id": "a786901f-7870-4b09-934e-3bad7358d949",
   "metadata": {},
   "outputs": [],
   "source": [
    "toml_requires_dict = get_toml_requires('pytorch_pyproject.toml')\n",
    "toml_req2_dict = get_toml_requires('numpy_pyproject.toml')"
   ]
  },
  {
   "cell_type": "code",
   "execution_count": 4,
   "id": "9fa50f44-b7b8-4a0d-baa2-aca5207a008d",
   "metadata": {},
   "outputs": [
    {
     "data": {
      "text/plain": [
       "['setuptools==59.2.0', 'wheel==0.37.0', 'Cython>=0.29.30,<3.0']"
      ]
     },
     "execution_count": 4,
     "metadata": {},
     "output_type": "execute_result"
    }
   ],
   "source": [
    "toml_req2_dict"
   ]
  },
  {
   "cell_type": "code",
   "execution_count": 5,
   "id": "6a0de17c-ee5c-4824-8dcd-65467bfabfe9",
   "metadata": {},
   "outputs": [],
   "source": [
    "#get_name_version_from_requires_dist breaks if formatted as name==version, needs spaces\n",
    "def reformat_toml_package_name(toml_package: str):\n",
    "    RE_DEPS_NAME = re.compile(r\"^\\s*([\\.a-zA-Z0-9_-]+)\")\n",
    "    pkg = RE_DEPS_NAME.match(toml_package).group(0)\n",
    "    if len(toml_package) > len(pkg):\n",
    "        return toml_package[:len(pkg)] + \" \" + toml_package[len(pkg):]\n",
    "    else:\n",
    "        return pkg"
   ]
  },
  {
   "cell_type": "code",
   "execution_count": 8,
   "id": "ee82f0f3-1ffe-49e6-8e3b-3b9db5016f33",
   "metadata": {},
   "outputs": [
    {
     "data": {
      "text/plain": [
       "('setuptools', '')"
      ]
     },
     "execution_count": 8,
     "metadata": {},
     "output_type": "execute_result"
    }
   ],
   "source": [
    "pkg_name, version = get_name_version_from_requires_dist( reformat_toml_package_name('setuptools') )\n",
    "pkg_name, version"
   ]
  },
  {
   "cell_type": "code",
   "execution_count": 12,
   "id": "96f41782-4cce-4e4d-b7dc-fb823f48e5d5",
   "metadata": {},
   "outputs": [
    {
     "data": {
      "text/plain": [
       "[('setuptools', ''),\n",
       " ('wheel', ''),\n",
       " ('astunparse', ''),\n",
       " ('numpy', ''),\n",
       " ('ninja', ''),\n",
       " ('pyyaml', ''),\n",
       " ('setuptools', ''),\n",
       " ('cmake', ''),\n",
       " ('cffi', ''),\n",
       " ('typing_extensions', ''),\n",
       " ('future', ''),\n",
       " ('six', ''),\n",
       " ('requests', ''),\n",
       " ('dataclasses', '')]"
      ]
     },
     "execution_count": 12,
     "metadata": {},
     "output_type": "execute_result"
    }
   ],
   "source": [
    "toml_requires_dict_vers = [tuple(get_name_version_from_requires_dist( reformat_toml_package_name(i))) for i in toml_requires_dict]\n",
    "toml_requires_dict_vers"
   ]
  },
  {
   "cell_type": "code",
   "execution_count": 13,
   "id": "665e5b2f-0470-4eeb-9fce-725f8a509fa6",
   "metadata": {},
   "outputs": [
    {
     "data": {
      "text/plain": [
       "[('setuptools', '==59.2.0'),\n",
       " ('wheel', '==0.37.0'),\n",
       " ('Cython', '>=0.29.30,<3.0')]"
      ]
     },
     "execution_count": 13,
     "metadata": {},
     "output_type": "execute_result"
    }
   ],
   "source": [
    "toml_req2_dict_vers = [tuple(get_name_version_from_requires_dist( reformat_toml_package_name(i))) for i in toml_req2_dict]\n",
    "toml_req2_dict_vers"
   ]
  },
  {
   "cell_type": "code",
   "execution_count": 14,
   "id": "42fba02a-0690-4e05-8af8-44f551be33fc",
   "metadata": {},
   "outputs": [],
   "source": [
    "#outstanding question: how to resolve version discrep if found; take one source as truth, most/least permissive "
   ]
  },
  {
   "cell_type": "code",
   "execution_count": 18,
   "id": "105edc6f-829e-48e6-9070-f25d15ae7486",
   "metadata": {},
   "outputs": [],
   "source": [
    "# ensure_pep440(toml_req2_dict_vers[0][1]) needed? possible clean-up pass on version handler - https://peps.python.org/pep-0440/"
   ]
  },
  {
   "cell_type": "code",
   "execution_count": 19,
   "id": "7586765a-9a7a-4133-82da-17cb4cce29a7",
   "metadata": {},
   "outputs": [
    {
     "data": {
      "text/plain": [
       "[('setuptools', ''),\n",
       " ('wheel', ''),\n",
       " ('astunparse', ''),\n",
       " ('numpy', ''),\n",
       " ('ninja', ''),\n",
       " ('pyyaml', ''),\n",
       " ('setuptools', ''),\n",
       " ('cmake', ''),\n",
       " ('cffi', ''),\n",
       " ('typing_extensions', ''),\n",
       " ('future', ''),\n",
       " ('six', ''),\n",
       " ('requests', ''),\n",
       " ('dataclasses', ''),\n",
       " ('setuptools', '==59.2.0'),\n",
       " ('wheel', '==0.37.0'),\n",
       " ('Cython', '>=0.29.30,<3.0')]"
      ]
     },
     "execution_count": 19,
     "metadata": {},
     "output_type": "execute_result"
    }
   ],
   "source": [
    "toml_requires_dict_vers + toml_req2_dict_vers #clean/resolve duplicates with version mismatch answer and pass along reqs"
   ]
  },
  {
   "cell_type": "code",
   "execution_count": null,
   "id": "5c6d0a85-5db3-48cf-bc81-a0c06fc6c634",
   "metadata": {},
   "outputs": [],
   "source": []
  }
 ],
 "metadata": {
  "kernelspec": {
   "display_name": "Python 3 (ipykernel)",
   "language": "python",
   "name": "python3"
  },
  "language_info": {
   "codemirror_mode": {
    "name": "ipython",
    "version": 3
   },
   "file_extension": ".py",
   "mimetype": "text/x-python",
   "name": "python",
   "nbconvert_exporter": "python",
   "pygments_lexer": "ipython3",
   "version": "3.10.6"
  }
 },
 "nbformat": 4,
 "nbformat_minor": 5
}
